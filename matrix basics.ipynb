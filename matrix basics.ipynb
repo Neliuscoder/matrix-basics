{
 "cells": [
  {
   "cell_type": "code",
   "execution_count": 2,
   "id": "74b8fcec",
   "metadata": {},
   "outputs": [],
   "source": [
    "import numpy as np\n"
   ]
  },
  {
   "cell_type": "code",
   "execution_count": 4,
   "id": "d83a5df0",
   "metadata": {},
   "outputs": [
    {
     "data": {
      "text/plain": [
       "array([[140, 150, 330],\n",
       "       [223, 402, 166],\n",
       "       [155, 533, 202]])"
      ]
     },
     "execution_count": 4,
     "metadata": {},
     "output_type": "execute_result"
    }
   ],
   "source": [
    "revenue = np.array([[180, 200, 400], [300, 500, 200], [200,600,300]])\n",
    "expenses = np.array([[40,50,70], [77, 98,34],[45,67,98]])\n",
    "\n",
    "profit = revenue - expenses\n",
    "profit"
   ]
  },
  {
   "cell_type": "code",
   "execution_count": 5,
   "id": "5006e552",
   "metadata": {},
   "outputs": [
    {
     "data": {
      "text/plain": [
       "array([[40600, 55400, 58600],\n",
       "       [59500, 77400, 57600],\n",
       "       [67700, 88900, 63800]])"
      ]
     },
     "execution_count": 5,
     "metadata": {},
     "output_type": "execute_result"
    }
   ],
   "source": [
    "revenue = np.array([[180, 200, 400], [300, 500, 200], [200,600,300]])\n",
    "expenses = np.array([[40,50,70], [77, 98,34],[45,67,98]])\n",
    "np.dot(revenue, expenses)\n"
   ]
  },
  {
   "cell_type": "code",
   "execution_count": null,
   "id": "0a3ad2ca",
   "metadata": {},
   "outputs": [],
   "source": []
  }
 ],
 "metadata": {
  "kernelspec": {
   "display_name": "Python 3 (ipykernel)",
   "language": "python",
   "name": "python3"
  },
  "language_info": {
   "codemirror_mode": {
    "name": "ipython",
    "version": 3
   },
   "file_extension": ".py",
   "mimetype": "text/x-python",
   "name": "python",
   "nbconvert_exporter": "python",
   "pygments_lexer": "ipython3",
   "version": "3.9.13"
  }
 },
 "nbformat": 4,
 "nbformat_minor": 5
}
